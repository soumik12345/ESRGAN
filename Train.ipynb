{
  "nbformat": 4,
  "nbformat_minor": 0,
  "metadata": {
    "colab": {
      "name": "Create_TFRecords.ipynb",
      "provenance": [],
      "collapsed_sections": []
    },
    "kernelspec": {
      "name": "python3",
      "display_name": "Python 3"
    },
    "accelerator": "GPU"
  },
  "cells": [
    {
      "cell_type": "code",
      "metadata": {
        "id": "uHHnrWt5CHHt",
        "colab_type": "code",
        "outputId": "40e0eaf1-3e9e-478f-febe-9c49c8045835",
        "colab": {
          "base_uri": "https://localhost:8080/",
          "height": 527
        }
      },
      "source": [
        "!wget http://data.vision.ee.ethz.ch/cvl/DIV2K/DIV2K_train_HR.zip\n",
        "!wget http://data.vision.ee.ethz.ch/cvl/DIV2K/DIV2K_train_LR_bicubic_X4.zip\n",
        "!unzip -q DIV2K_train_HR.zip\n",
        "!unzip -q DIV2K_train_LR_bicubic_X4.zip"
      ],
      "execution_count": 1,
      "outputs": [
        {
          "output_type": "stream",
          "text": [
            "--2020-02-14 04:28:17--  http://data.vision.ee.ethz.ch/cvl/DIV2K/DIV2K_train_HR.zip\n",
            "Resolving data.vision.ee.ethz.ch (data.vision.ee.ethz.ch)... 129.132.52.162\n",
            "Connecting to data.vision.ee.ethz.ch (data.vision.ee.ethz.ch)|129.132.52.162|:80... connected.\n",
            "HTTP request sent, awaiting response... 302 Found\n",
            "Location: https://data.vision.ee.ethz.ch/cvl/DIV2K/DIV2K_train_HR.zip [following]\n",
            "--2020-02-14 04:28:18--  https://data.vision.ee.ethz.ch/cvl/DIV2K/DIV2K_train_HR.zip\n",
            "Connecting to data.vision.ee.ethz.ch (data.vision.ee.ethz.ch)|129.132.52.162|:443... connected.\n",
            "HTTP request sent, awaiting response... 200 OK\n",
            "Length: 3530603713 (3.3G) [application/zip]\n",
            "Saving to: ‘DIV2K_train_HR.zip’\n",
            "\n",
            "DIV2K_train_HR.zip  100%[===================>]   3.29G  18.2MB/s    in 3m 6s   \n",
            "\n",
            "2020-02-14 04:31:25 (18.1 MB/s) - ‘DIV2K_train_HR.zip’ saved [3530603713/3530603713]\n",
            "\n",
            "--2020-02-14 04:31:26--  http://data.vision.ee.ethz.ch/cvl/DIV2K/DIV2K_train_LR_bicubic_X4.zip\n",
            "Resolving data.vision.ee.ethz.ch (data.vision.ee.ethz.ch)... 129.132.52.162\n",
            "Connecting to data.vision.ee.ethz.ch (data.vision.ee.ethz.ch)|129.132.52.162|:80... connected.\n",
            "HTTP request sent, awaiting response... 302 Found\n",
            "Location: https://data.vision.ee.ethz.ch/cvl/DIV2K/DIV2K_train_LR_bicubic_X4.zip [following]\n",
            "--2020-02-14 04:31:27--  https://data.vision.ee.ethz.ch/cvl/DIV2K/DIV2K_train_LR_bicubic_X4.zip\n",
            "Connecting to data.vision.ee.ethz.ch (data.vision.ee.ethz.ch)|129.132.52.162|:443... connected.\n",
            "HTTP request sent, awaiting response... 200 OK\n",
            "Length: 246914039 (235M) [application/zip]\n",
            "Saving to: ‘DIV2K_train_LR_bicubic_X4.zip’\n",
            "\n",
            "DIV2K_train_LR_bicu 100%[===================>] 235.47M  18.6MB/s    in 14s     \n",
            "\n",
            "2020-02-14 04:31:41 (17.1 MB/s) - ‘DIV2K_train_LR_bicubic_X4.zip’ saved [246914039/246914039]\n",
            "\n"
          ],
          "name": "stdout"
        }
      ]
    },
    {
      "cell_type": "code",
      "metadata": {
        "id": "MxTc2PHVeZj-",
        "colab_type": "code",
        "colab": {}
      },
      "source": [
        "!unzip -q src.zip"
      ],
      "execution_count": 0,
      "outputs": []
    },
    {
      "cell_type": "code",
      "metadata": {
        "id": "GonhVZ-2CZuy",
        "colab_type": "code",
        "outputId": "9b24f8c3-7389-473a-b489-a910a474c630",
        "colab": {
          "base_uri": "https://localhost:8080/",
          "height": 34
        }
      },
      "source": [
        "%tensorflow_version 2.x\n",
        "import os, random\n",
        "import math, functools\n",
        "from glob import glob\n",
        "from tqdm import tqdm\n",
        "import tensorflow as tf\n",
        "from src.dataset import *\n",
        "from src.models import *\n",
        "from matplotlib import pyplot as plt\n",
        "AUTOTUNE = tf.data.experimental.AUTOTUNE"
      ],
      "execution_count": 1,
      "outputs": [
        {
          "output_type": "stream",
          "text": [
            "TensorFlow 2.x selected.\n"
          ],
          "name": "stdout"
        }
      ]
    },
    {
      "cell_type": "code",
      "metadata": {
        "id": "cDWN8vlMAzot",
        "colab_type": "code",
        "colab": {
          "base_uri": "https://localhost:8080/",
          "height": 34
        },
        "outputId": "a3f15c6b-0022-4b20-dd7e-664fc4dd6d8e"
      },
      "source": [
        "tfrecord_creator = TFRecordCreator('./DIV2K_train_HR', './DIV2K_train_LR_bicubic/X4')\n",
        "tfrecord_creator.make_tfrecord_file('div2d_4x_bicubic.tfrecord')"
      ],
      "execution_count": 2,
      "outputs": [
        {
          "output_type": "stream",
          "text": [
            "100%|██████████| 800/800 [01:06<00:00, 12.85it/s]\n"
          ],
          "name": "stderr"
        }
      ]
    },
    {
      "cell_type": "code",
      "metadata": {
        "id": "7EUDGdz7B7AF",
        "colab_type": "code",
        "colab": {
          "base_uri": "https://localhost:8080/",
          "height": 34
        },
        "outputId": "24e598f5-a113-49ac-d86a-cd5b9d2b6440"
      },
      "source": [
        "sr_dataset = SRTfrecordDataset(512)\n",
        "dataset = sr_dataset.get_dataset('div2d_4x_bicubic.tfrecord', 8, 1024)\n",
        "dataset"
      ],
      "execution_count": 2,
      "outputs": [
        {
          "output_type": "execute_result",
          "data": {
            "text/plain": [
              "<PrefetchDataset shapes: ((8, 128, 128, 3), (8, 512, 512, 3)), types: (tf.float32, tf.float32)>"
            ]
          },
          "metadata": {
            "tags": []
          },
          "execution_count": 2
        }
      ]
    },
    {
      "cell_type": "code",
      "metadata": {
        "id": "5-o042quQY82",
        "colab_type": "code",
        "colab": {
          "base_uri": "https://localhost:8080/",
          "height": 51
        },
        "outputId": "3cc14bb8-072c-4391-a2c3-0307911f9de0"
      },
      "source": [
        "sample_x, sample_y = next(iter(dataset))\n",
        "sample_x = sample_x.numpy()\n",
        "sample_y = sample_y.numpy()\n",
        "print('Sample X shape: {}'.format(sample_x.shape))\n",
        "print('Sample Y shape: {}'.format(sample_y.shape))"
      ],
      "execution_count": 3,
      "outputs": [
        {
          "output_type": "stream",
          "text": [
            "Sample X shape: (8, 128, 128, 3)\n",
            "Sample Y shape: (8, 512, 512, 3)\n"
          ],
          "name": "stdout"
        }
      ]
    },
    {
      "cell_type": "code",
      "metadata": {
        "colab_type": "code",
        "id": "fnR5Ir6Olc4a",
        "colab": {
          "base_uri": "https://localhost:8080/",
          "height": 34
        },
        "outputId": "e4737f88-1215-4bf5-d829-f44325cd63a9"
      },
      "source": [
        "sample_generator = Generator(128, 3, {'nf': 64, 'nb': 23})\n",
        "sample_sr = sample_generator(sample_x)\n",
        "print('Sample Generated Image Shape: {}'.format(sample_sr.shape))"
      ],
      "execution_count": 6,
      "outputs": [
        {
          "output_type": "stream",
          "text": [
            "Sample Generated Image Shape: (8, 512, 512, 3)\n"
          ],
          "name": "stdout"
        }
      ]
    },
    {
      "cell_type": "code",
      "metadata": {
        "id": "wQ-aAaNOleLI",
        "colab_type": "code",
        "colab": {}
      },
      "source": [
        ""
      ],
      "execution_count": 0,
      "outputs": []
    }
  ]
}