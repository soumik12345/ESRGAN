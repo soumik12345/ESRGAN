{
  "nbformat": 4,
  "nbformat_minor": 0,
  "metadata": {
    "colab": {
      "name": "Create_TFRecords.ipynb",
      "provenance": [],
      "collapsed_sections": []
    },
    "kernelspec": {
      "name": "python3",
      "display_name": "Python 3"
    },
    "accelerator": "GPU"
  },
  "cells": [
    {
      "cell_type": "code",
      "metadata": {
        "id": "uHHnrWt5CHHt",
        "colab_type": "code",
        "outputId": "40e0eaf1-3e9e-478f-febe-9c49c8045835",
        "colab": {
          "base_uri": "https://localhost:8080/",
          "height": 527
        }
      },
      "source": [
        "!wget http://data.vision.ee.ethz.ch/cvl/DIV2K/DIV2K_train_HR.zip\n",
        "!wget http://data.vision.ee.ethz.ch/cvl/DIV2K/DIV2K_train_LR_bicubic_X4.zip\n",
        "!unzip -q DIV2K_train_HR.zip\n",
        "!unzip -q DIV2K_train_LR_bicubic_X4.zip"
      ],
      "execution_count": 1,
      "outputs": [
        {
          "output_type": "stream",
          "text": [
            "--2020-02-14 04:28:17--  http://data.vision.ee.ethz.ch/cvl/DIV2K/DIV2K_train_HR.zip\n",
            "Resolving data.vision.ee.ethz.ch (data.vision.ee.ethz.ch)... 129.132.52.162\n",
            "Connecting to data.vision.ee.ethz.ch (data.vision.ee.ethz.ch)|129.132.52.162|:80... connected.\n",
            "HTTP request sent, awaiting response... 302 Found\n",
            "Location: https://data.vision.ee.ethz.ch/cvl/DIV2K/DIV2K_train_HR.zip [following]\n",
            "--2020-02-14 04:28:18--  https://data.vision.ee.ethz.ch/cvl/DIV2K/DIV2K_train_HR.zip\n",
            "Connecting to data.vision.ee.ethz.ch (data.vision.ee.ethz.ch)|129.132.52.162|:443... connected.\n",
            "HTTP request sent, awaiting response... 200 OK\n",
            "Length: 3530603713 (3.3G) [application/zip]\n",
            "Saving to: ‘DIV2K_train_HR.zip’\n",
            "\n",
            "DIV2K_train_HR.zip  100%[===================>]   3.29G  18.2MB/s    in 3m 6s   \n",
            "\n",
            "2020-02-14 04:31:25 (18.1 MB/s) - ‘DIV2K_train_HR.zip’ saved [3530603713/3530603713]\n",
            "\n",
            "--2020-02-14 04:31:26--  http://data.vision.ee.ethz.ch/cvl/DIV2K/DIV2K_train_LR_bicubic_X4.zip\n",
            "Resolving data.vision.ee.ethz.ch (data.vision.ee.ethz.ch)... 129.132.52.162\n",
            "Connecting to data.vision.ee.ethz.ch (data.vision.ee.ethz.ch)|129.132.52.162|:80... connected.\n",
            "HTTP request sent, awaiting response... 302 Found\n",
            "Location: https://data.vision.ee.ethz.ch/cvl/DIV2K/DIV2K_train_LR_bicubic_X4.zip [following]\n",
            "--2020-02-14 04:31:27--  https://data.vision.ee.ethz.ch/cvl/DIV2K/DIV2K_train_LR_bicubic_X4.zip\n",
            "Connecting to data.vision.ee.ethz.ch (data.vision.ee.ethz.ch)|129.132.52.162|:443... connected.\n",
            "HTTP request sent, awaiting response... 200 OK\n",
            "Length: 246914039 (235M) [application/zip]\n",
            "Saving to: ‘DIV2K_train_LR_bicubic_X4.zip’\n",
            "\n",
            "DIV2K_train_LR_bicu 100%[===================>] 235.47M  18.6MB/s    in 14s     \n",
            "\n",
            "2020-02-14 04:31:41 (17.1 MB/s) - ‘DIV2K_train_LR_bicubic_X4.zip’ saved [246914039/246914039]\n",
            "\n"
          ],
          "name": "stdout"
        }
      ]
    },
    {
      "cell_type": "code",
      "metadata": {
        "id": "MxTc2PHVeZj-",
        "colab_type": "code",
        "colab": {}
      },
      "source": [
        "!unzip -q src.zip"
      ],
      "execution_count": 0,
      "outputs": []
    },
    {
      "cell_type": "code",
      "metadata": {
        "id": "GonhVZ-2CZuy",
        "colab_type": "code",
        "outputId": "3ebe99b2-b1a5-4651-ed6e-65170482397f",
        "colab": {
          "base_uri": "https://localhost:8080/",
          "height": 34
        }
      },
      "source": [
        "%tensorflow_version 2.x\n",
        "import os, random\n",
        "import math, functools\n",
        "from glob import glob\n",
        "from tqdm import tqdm\n",
        "import tensorflow as tf\n",
        "from src.dataset import *\n",
        "from src.models import *\n",
        "from matplotlib import pyplot as plt\n",
        "AUTOTUNE = tf.data.experimental.AUTOTUNE"
      ],
      "execution_count": 1,
      "outputs": [
        {
          "output_type": "stream",
          "text": [
            "TensorFlow 2.x selected.\n"
          ],
          "name": "stdout"
        }
      ]
    },
    {
      "cell_type": "code",
      "metadata": {
        "id": "cDWN8vlMAzot",
        "colab_type": "code",
        "colab": {
          "base_uri": "https://localhost:8080/",
          "height": 34
        },
        "outputId": "58cabe00-c78d-48e5-c1ae-3b8399fe81ad"
      },
      "source": [
        "tfrecord_creator = TFRecordCreator('./DIV2K_train_HR', './DIV2K_train_LR_bicubic/X4')\n",
        "tfrecord_creator.make_tfrecord_file('div2d_4x_bicubic.tfrecord')"
      ],
      "execution_count": 2,
      "outputs": [
        {
          "output_type": "stream",
          "text": [
            "100%|██████████| 800/800 [01:48<00:00,  7.37it/s]\n"
          ],
          "name": "stderr"
        }
      ]
    },
    {
      "cell_type": "code",
      "metadata": {
        "id": "7EUDGdz7B7AF",
        "colab_type": "code",
        "colab": {
          "base_uri": "https://localhost:8080/",
          "height": 34
        },
        "outputId": "8d837e19-f222-4fa3-9dc5-36ccb87846e5"
      },
      "source": [
        "sr_dataset = SRTfrecordDataset(512)\n",
        "dataset = sr_dataset.get_dataset('div2d_4x_bicubic.tfrecord', 8, 1024)\n",
        "dataset"
      ],
      "execution_count": 3,
      "outputs": [
        {
          "output_type": "execute_result",
          "data": {
            "text/plain": [
              "<PrefetchDataset shapes: ((8, 128, 128, 3), (8, 512, 512, 3)), types: (tf.float32, tf.float32)>"
            ]
          },
          "metadata": {
            "tags": []
          },
          "execution_count": 3
        }
      ]
    },
    {
      "cell_type": "code",
      "metadata": {
        "id": "5-o042quQY82",
        "colab_type": "code",
        "colab": {
          "base_uri": "https://localhost:8080/",
          "height": 51
        },
        "outputId": "33766894-2772-4593-f623-527c064983b8"
      },
      "source": [
        "sample_x, sample_y = next(iter(dataset))\n",
        "sample_x = sample_x.numpy()\n",
        "sample_y = sample_y.numpy()\n",
        "print('Sample X shape: {}'.format(sample_x.shape))\n",
        "print('Sample Y shape: {}'.format(sample_y.shape))"
      ],
      "execution_count": 4,
      "outputs": [
        {
          "output_type": "stream",
          "text": [
            "Sample X shape: (8, 128, 128, 3)\n",
            "Sample Y shape: (8, 512, 512, 3)\n"
          ],
          "name": "stdout"
        }
      ]
    },
    {
      "cell_type": "code",
      "metadata": {
        "colab_type": "code",
        "id": "fnR5Ir6Olc4a",
        "colab": {
          "base_uri": "https://localhost:8080/",
          "height": 34
        },
        "outputId": "d6561ce8-2eae-4f0e-b754-029fb97036bc"
      },
      "source": [
        "sample_generator = Generator(128, 3)\n",
        "sample_sr = sample_generator(sample_x)\n",
        "print('Sample Generated Image Shape: {}'.format(sample_sr.shape))"
      ],
      "execution_count": 5,
      "outputs": [
        {
          "output_type": "stream",
          "text": [
            "Sample Generated Image Shape: (8, 512, 512, 3)\n"
          ],
          "name": "stdout"
        }
      ]
    },
    {
      "cell_type": "code",
      "metadata": {
        "id": "A9zgEi-R3h23",
        "colab_type": "code",
        "colab": {
          "base_uri": "https://localhost:8080/",
          "height": 34
        },
        "outputId": "8c4c087a-0ca8-4c84-e44b-7281721a624b"
      },
      "source": [
        "sample_discriminator = Discriminator(512, 3)\n",
        "sample_discriminator_output = sample_discriminator(sample_sr)\n",
        "print('Sample Discriminator Output: {}'.format(sample_discriminator_output.shape))"
      ],
      "execution_count": 7,
      "outputs": [
        {
          "output_type": "stream",
          "text": [
            "Sample Discriminator Output: (8, 1)\n"
          ],
          "name": "stdout"
        }
      ]
    },
    {
      "cell_type": "code",
      "metadata": {
        "id": "CFZbZFrU42-q",
        "colab_type": "code",
        "colab": {}
      },
      "source": [
        ""
      ],
      "execution_count": 0,
      "outputs": []
    }
  ]
}